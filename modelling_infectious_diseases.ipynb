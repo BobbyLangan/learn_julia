{
 "cells": [
  {
   "cell_type": "code",
   "execution_count": 6,
   "metadata": {},
   "outputs": [
    {
     "ename": "SyntaxError",
     "evalue": "invalid syntax (<ipython-input-6-dd977e63beeb>, line 3)",
     "output_type": "error",
     "traceback": [
      "\u001b[0;36m  File \u001b[0;32m\"<ipython-input-6-dd977e63beeb>\"\u001b[0;36m, line \u001b[0;32m3\u001b[0m\n\u001b[0;31m    times = 0:δt:T\u001b[0m\n\u001b[0m             ^\u001b[0m\n\u001b[0;31mSyntaxError\u001b[0m\u001b[0;31m:\u001b[0m invalid syntax\n"
     ]
    }
   ],
   "source": [
    "δt = 0.001\n",
    "T = 1\n",
    "times = 0:δt:T\n",
    "ntimes = length(times)\n",
    "N₁ = 10000"
   ]
  }
 ],
 "metadata": {
  "kernelspec": {
   "display_name": "Python 3.8.5 64-bit ('algotrading': conda)",
   "name": "python385jvsc74a57bd0979309ac9a9d4251d12fc4e8aeb92f7f5b718865a9465f24a448179ec2c96e50"
  },
  "language_info": {
   "codemirror_mode": {
    "name": "ipython",
    "version": 3
   },
   "file_extension": ".py",
   "mimetype": "text/x-python",
   "name": "python",
   "nbconvert_exporter": "python",
   "pygments_lexer": "ipython3",
   "version": "3.8.5"
  },
  "orig_nbformat": 2
 },
 "nbformat": 4,
 "nbformat_minor": 2
}